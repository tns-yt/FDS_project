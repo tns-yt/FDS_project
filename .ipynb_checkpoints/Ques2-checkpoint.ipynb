{
 "cells": [
  {
   "cell_type": "code",
   "execution_count": 1,
   "id": "fdcba0a0",
   "metadata": {},
   "outputs": [],
   "source": [
    "import pandas as pd\n",
    "import numpy as np\n",
    "from numpy.linalg import eigh\n",
    "from scipy.linalg import svd"
   ]
  },
  {
   "cell_type": "code",
   "execution_count": 2,
   "id": "417fbac7",
   "metadata": {},
   "outputs": [
    {
     "ename": "FileNotFoundError",
     "evalue": "[Errno 2] No such file or directory: 'Data/libras Movement.csv'",
     "output_type": "error",
     "traceback": [
      "\u001b[1;31m---------------------------------------------------------------------------\u001b[0m",
      "\u001b[1;31mFileNotFoundError\u001b[0m                         Traceback (most recent call last)",
      "Cell \u001b[1;32mIn[2], line 1\u001b[0m\n\u001b[1;32m----> 1\u001b[0m data \u001b[38;5;241m=\u001b[39m pd\u001b[38;5;241m.\u001b[39mread_csv(\u001b[38;5;124m'\u001b[39m\u001b[38;5;124mData/libras Movement.csv\u001b[39m\u001b[38;5;124m'\u001b[39m)\n\u001b[0;32m      2\u001b[0m data\u001b[38;5;241m.\u001b[39mhead()\n",
      "File \u001b[1;32m~\\anaconda3\\Lib\\site-packages\\pandas\\io\\parsers\\readers.py:912\u001b[0m, in \u001b[0;36mread_csv\u001b[1;34m(filepath_or_buffer, sep, delimiter, header, names, index_col, usecols, dtype, engine, converters, true_values, false_values, skipinitialspace, skiprows, skipfooter, nrows, na_values, keep_default_na, na_filter, verbose, skip_blank_lines, parse_dates, infer_datetime_format, keep_date_col, date_parser, date_format, dayfirst, cache_dates, iterator, chunksize, compression, thousands, decimal, lineterminator, quotechar, quoting, doublequote, escapechar, comment, encoding, encoding_errors, dialect, on_bad_lines, delim_whitespace, low_memory, memory_map, float_precision, storage_options, dtype_backend)\u001b[0m\n\u001b[0;32m    899\u001b[0m kwds_defaults \u001b[38;5;241m=\u001b[39m _refine_defaults_read(\n\u001b[0;32m    900\u001b[0m     dialect,\n\u001b[0;32m    901\u001b[0m     delimiter,\n\u001b[1;32m   (...)\u001b[0m\n\u001b[0;32m    908\u001b[0m     dtype_backend\u001b[38;5;241m=\u001b[39mdtype_backend,\n\u001b[0;32m    909\u001b[0m )\n\u001b[0;32m    910\u001b[0m kwds\u001b[38;5;241m.\u001b[39mupdate(kwds_defaults)\n\u001b[1;32m--> 912\u001b[0m \u001b[38;5;28;01mreturn\u001b[39;00m _read(filepath_or_buffer, kwds)\n",
      "File \u001b[1;32m~\\anaconda3\\Lib\\site-packages\\pandas\\io\\parsers\\readers.py:577\u001b[0m, in \u001b[0;36m_read\u001b[1;34m(filepath_or_buffer, kwds)\u001b[0m\n\u001b[0;32m    574\u001b[0m _validate_names(kwds\u001b[38;5;241m.\u001b[39mget(\u001b[38;5;124m\"\u001b[39m\u001b[38;5;124mnames\u001b[39m\u001b[38;5;124m\"\u001b[39m, \u001b[38;5;28;01mNone\u001b[39;00m))\n\u001b[0;32m    576\u001b[0m \u001b[38;5;66;03m# Create the parser.\u001b[39;00m\n\u001b[1;32m--> 577\u001b[0m parser \u001b[38;5;241m=\u001b[39m TextFileReader(filepath_or_buffer, \u001b[38;5;241m*\u001b[39m\u001b[38;5;241m*\u001b[39mkwds)\n\u001b[0;32m    579\u001b[0m \u001b[38;5;28;01mif\u001b[39;00m chunksize \u001b[38;5;129;01mor\u001b[39;00m iterator:\n\u001b[0;32m    580\u001b[0m     \u001b[38;5;28;01mreturn\u001b[39;00m parser\n",
      "File \u001b[1;32m~\\anaconda3\\Lib\\site-packages\\pandas\\io\\parsers\\readers.py:1407\u001b[0m, in \u001b[0;36mTextFileReader.__init__\u001b[1;34m(self, f, engine, **kwds)\u001b[0m\n\u001b[0;32m   1404\u001b[0m     \u001b[38;5;28mself\u001b[39m\u001b[38;5;241m.\u001b[39moptions[\u001b[38;5;124m\"\u001b[39m\u001b[38;5;124mhas_index_names\u001b[39m\u001b[38;5;124m\"\u001b[39m] \u001b[38;5;241m=\u001b[39m kwds[\u001b[38;5;124m\"\u001b[39m\u001b[38;5;124mhas_index_names\u001b[39m\u001b[38;5;124m\"\u001b[39m]\n\u001b[0;32m   1406\u001b[0m \u001b[38;5;28mself\u001b[39m\u001b[38;5;241m.\u001b[39mhandles: IOHandles \u001b[38;5;241m|\u001b[39m \u001b[38;5;28;01mNone\u001b[39;00m \u001b[38;5;241m=\u001b[39m \u001b[38;5;28;01mNone\u001b[39;00m\n\u001b[1;32m-> 1407\u001b[0m \u001b[38;5;28mself\u001b[39m\u001b[38;5;241m.\u001b[39m_engine \u001b[38;5;241m=\u001b[39m \u001b[38;5;28mself\u001b[39m\u001b[38;5;241m.\u001b[39m_make_engine(f, \u001b[38;5;28mself\u001b[39m\u001b[38;5;241m.\u001b[39mengine)\n",
      "File \u001b[1;32m~\\anaconda3\\Lib\\site-packages\\pandas\\io\\parsers\\readers.py:1661\u001b[0m, in \u001b[0;36mTextFileReader._make_engine\u001b[1;34m(self, f, engine)\u001b[0m\n\u001b[0;32m   1659\u001b[0m     \u001b[38;5;28;01mif\u001b[39;00m \u001b[38;5;124m\"\u001b[39m\u001b[38;5;124mb\u001b[39m\u001b[38;5;124m\"\u001b[39m \u001b[38;5;129;01mnot\u001b[39;00m \u001b[38;5;129;01min\u001b[39;00m mode:\n\u001b[0;32m   1660\u001b[0m         mode \u001b[38;5;241m+\u001b[39m\u001b[38;5;241m=\u001b[39m \u001b[38;5;124m\"\u001b[39m\u001b[38;5;124mb\u001b[39m\u001b[38;5;124m\"\u001b[39m\n\u001b[1;32m-> 1661\u001b[0m \u001b[38;5;28mself\u001b[39m\u001b[38;5;241m.\u001b[39mhandles \u001b[38;5;241m=\u001b[39m get_handle(\n\u001b[0;32m   1662\u001b[0m     f,\n\u001b[0;32m   1663\u001b[0m     mode,\n\u001b[0;32m   1664\u001b[0m     encoding\u001b[38;5;241m=\u001b[39m\u001b[38;5;28mself\u001b[39m\u001b[38;5;241m.\u001b[39moptions\u001b[38;5;241m.\u001b[39mget(\u001b[38;5;124m\"\u001b[39m\u001b[38;5;124mencoding\u001b[39m\u001b[38;5;124m\"\u001b[39m, \u001b[38;5;28;01mNone\u001b[39;00m),\n\u001b[0;32m   1665\u001b[0m     compression\u001b[38;5;241m=\u001b[39m\u001b[38;5;28mself\u001b[39m\u001b[38;5;241m.\u001b[39moptions\u001b[38;5;241m.\u001b[39mget(\u001b[38;5;124m\"\u001b[39m\u001b[38;5;124mcompression\u001b[39m\u001b[38;5;124m\"\u001b[39m, \u001b[38;5;28;01mNone\u001b[39;00m),\n\u001b[0;32m   1666\u001b[0m     memory_map\u001b[38;5;241m=\u001b[39m\u001b[38;5;28mself\u001b[39m\u001b[38;5;241m.\u001b[39moptions\u001b[38;5;241m.\u001b[39mget(\u001b[38;5;124m\"\u001b[39m\u001b[38;5;124mmemory_map\u001b[39m\u001b[38;5;124m\"\u001b[39m, \u001b[38;5;28;01mFalse\u001b[39;00m),\n\u001b[0;32m   1667\u001b[0m     is_text\u001b[38;5;241m=\u001b[39mis_text,\n\u001b[0;32m   1668\u001b[0m     errors\u001b[38;5;241m=\u001b[39m\u001b[38;5;28mself\u001b[39m\u001b[38;5;241m.\u001b[39moptions\u001b[38;5;241m.\u001b[39mget(\u001b[38;5;124m\"\u001b[39m\u001b[38;5;124mencoding_errors\u001b[39m\u001b[38;5;124m\"\u001b[39m, \u001b[38;5;124m\"\u001b[39m\u001b[38;5;124mstrict\u001b[39m\u001b[38;5;124m\"\u001b[39m),\n\u001b[0;32m   1669\u001b[0m     storage_options\u001b[38;5;241m=\u001b[39m\u001b[38;5;28mself\u001b[39m\u001b[38;5;241m.\u001b[39moptions\u001b[38;5;241m.\u001b[39mget(\u001b[38;5;124m\"\u001b[39m\u001b[38;5;124mstorage_options\u001b[39m\u001b[38;5;124m\"\u001b[39m, \u001b[38;5;28;01mNone\u001b[39;00m),\n\u001b[0;32m   1670\u001b[0m )\n\u001b[0;32m   1671\u001b[0m \u001b[38;5;28;01massert\u001b[39;00m \u001b[38;5;28mself\u001b[39m\u001b[38;5;241m.\u001b[39mhandles \u001b[38;5;129;01mis\u001b[39;00m \u001b[38;5;129;01mnot\u001b[39;00m \u001b[38;5;28;01mNone\u001b[39;00m\n\u001b[0;32m   1672\u001b[0m f \u001b[38;5;241m=\u001b[39m \u001b[38;5;28mself\u001b[39m\u001b[38;5;241m.\u001b[39mhandles\u001b[38;5;241m.\u001b[39mhandle\n",
      "File \u001b[1;32m~\\anaconda3\\Lib\\site-packages\\pandas\\io\\common.py:859\u001b[0m, in \u001b[0;36mget_handle\u001b[1;34m(path_or_buf, mode, encoding, compression, memory_map, is_text, errors, storage_options)\u001b[0m\n\u001b[0;32m    854\u001b[0m \u001b[38;5;28;01melif\u001b[39;00m \u001b[38;5;28misinstance\u001b[39m(handle, \u001b[38;5;28mstr\u001b[39m):\n\u001b[0;32m    855\u001b[0m     \u001b[38;5;66;03m# Check whether the filename is to be opened in binary mode.\u001b[39;00m\n\u001b[0;32m    856\u001b[0m     \u001b[38;5;66;03m# Binary mode does not support 'encoding' and 'newline'.\u001b[39;00m\n\u001b[0;32m    857\u001b[0m     \u001b[38;5;28;01mif\u001b[39;00m ioargs\u001b[38;5;241m.\u001b[39mencoding \u001b[38;5;129;01mand\u001b[39;00m \u001b[38;5;124m\"\u001b[39m\u001b[38;5;124mb\u001b[39m\u001b[38;5;124m\"\u001b[39m \u001b[38;5;129;01mnot\u001b[39;00m \u001b[38;5;129;01min\u001b[39;00m ioargs\u001b[38;5;241m.\u001b[39mmode:\n\u001b[0;32m    858\u001b[0m         \u001b[38;5;66;03m# Encoding\u001b[39;00m\n\u001b[1;32m--> 859\u001b[0m         handle \u001b[38;5;241m=\u001b[39m \u001b[38;5;28mopen\u001b[39m(\n\u001b[0;32m    860\u001b[0m             handle,\n\u001b[0;32m    861\u001b[0m             ioargs\u001b[38;5;241m.\u001b[39mmode,\n\u001b[0;32m    862\u001b[0m             encoding\u001b[38;5;241m=\u001b[39mioargs\u001b[38;5;241m.\u001b[39mencoding,\n\u001b[0;32m    863\u001b[0m             errors\u001b[38;5;241m=\u001b[39merrors,\n\u001b[0;32m    864\u001b[0m             newline\u001b[38;5;241m=\u001b[39m\u001b[38;5;124m\"\u001b[39m\u001b[38;5;124m\"\u001b[39m,\n\u001b[0;32m    865\u001b[0m         )\n\u001b[0;32m    866\u001b[0m     \u001b[38;5;28;01melse\u001b[39;00m:\n\u001b[0;32m    867\u001b[0m         \u001b[38;5;66;03m# Binary mode\u001b[39;00m\n\u001b[0;32m    868\u001b[0m         handle \u001b[38;5;241m=\u001b[39m \u001b[38;5;28mopen\u001b[39m(handle, ioargs\u001b[38;5;241m.\u001b[39mmode)\n",
      "\u001b[1;31mFileNotFoundError\u001b[0m: [Errno 2] No such file or directory: 'Data/libras Movement.csv'"
     ]
    }
   ],
   "source": [
    "data = pd.read_csv('Data/libras Movement.csv')\n",
    "data.head()"
   ]
  },
  {
   "cell_type": "code",
   "execution_count": null,
   "id": "ced56c60",
   "metadata": {},
   "outputs": [],
   "source": [
    "print(data.shape)\n",
    "data.tail()"
   ]
  },
  {
   "cell_type": "code",
   "execution_count": null,
   "id": "7e038b2b",
   "metadata": {},
   "outputs": [],
   "source": [
    "data.info()"
   ]
  },
  {
   "cell_type": "markdown",
   "id": "2cceb0f3",
   "metadata": {},
   "source": [
    "There are no null values in the give data frame,so no need of cleaning of null values."
   ]
  },
  {
   "cell_type": "code",
   "execution_count": null,
   "id": "59b61996",
   "metadata": {},
   "outputs": [],
   "source": [
    "Y=data[data.columns[-1]]\n",
    "data.drop([data.columns[-1]],axis=1,inplace=True)#last column is target variable on which PDA whould not be applied"
   ]
  },
  {
   "cell_type": "markdown",
   "id": "395d366e",
   "metadata": {},
   "source": [
    "# PCA"
   ]
  },
  {
   "cell_type": "code",
   "execution_count": null,
   "id": "f25e0ca3",
   "metadata": {},
   "outputs": [],
   "source": [
    "arr_data = data.values\n",
    "arr_data"
   ]
  },
  {
   "cell_type": "code",
   "execution_count": null,
   "id": "0cf6aacf",
   "metadata": {},
   "outputs": [],
   "source": [
    "arr_data_m = np.mean(arr_data,axis=0)\n",
    "arr_data_m"
   ]
  },
  {
   "cell_type": "code",
   "execution_count": null,
   "id": "1c1f797b",
   "metadata": {},
   "outputs": [],
   "source": [
    "#calculating covariance matrix\n",
    "cent = arr_data-arr_data_m#don't confuse with unmatching of dimension,broadcasting occurs\n",
    "cov = (1/len(cent))*(cent.T@cent)#fromula of covariance matrix\n",
    "cov"
   ]
  },
  {
   "cell_type": "code",
   "execution_count": null,
   "id": "224c4ea8",
   "metadata": {},
   "outputs": [],
   "source": [
    "eigval, eigvec = eigh(cov)\n",
    "print(eigvec.shape)\n",
    "idx = eigval.argsort()[::-1]#getting decreasing order of eigen values\n",
    "eigval = eigval[idx]#sorting sorting eigen vectors in decreasing arder according to eigen values\n",
    "eigvec = eigvec[:,idx]\n",
    "eigvec\n",
    "#print(len(idx))"
   ]
  },
  {
   "cell_type": "code",
   "execution_count": null,
   "id": "f475a145",
   "metadata": {},
   "outputs": [],
   "source": [
    "#run the following cells to verify that principal components are orthogonoal to each other.\n",
    "#(i am commenting this because,this will many lines and not neccessary)\n",
    "'''for i in range(0,len(eigvec[0])-1):\n",
    "    for j in range(0,len(eig[0])-1):\n",
    "        if i!=j:\n",
    "            print(float(np.dot(eigvec[:,i],eigvec[:,j])))'''"
   ]
  },
  {
   "cell_type": "markdown",
   "id": "746a5813",
   "metadata": {},
   "source": [
    "covariance captured in a dimension(in one of eigen vector) is propotional to eigen value.So, we have to find number of eigen vectors to be used to get desired percentage of data."
   ]
  },
  {
   "cell_type": "code",
   "execution_count": null,
   "id": "63b93fc2",
   "metadata": {},
   "outputs": [],
   "source": [
    "#to know which componenents capture how much variance:(for first 10 components)\n",
    "Q = sum(eigval)\n",
    "for i in range(10):\n",
    "    print('Percentage of variance captured by {}th principal component: {} '.format(i,(eigval[i]/Q)*100)  )"
   ]
  },
  {
   "cell_type": "code",
   "execution_count": null,
   "id": "94f203e0",
   "metadata": {},
   "outputs": [],
   "source": [
    "def dim(eigval,ratio):#assuming that 0 is not given in ratio\n",
    "    ind,temp_sum,total = 0,eigval[0],np.sum(eigval)\n",
    "    for ind in range(1,len(eigval)):\n",
    "        if temp_sum/total>=ratio:break\n",
    "        else:\n",
    "            temp_sum+=eigval[ind]\n",
    "    return ind"
   ]
  },
  {
   "cell_type": "markdown",
   "id": "bfcf1518",
   "metadata": {},
   "source": [
    "dim(eigval,0.95)=9#requires minimum of 9 dimesnion to captue 95 % of covariance"
   ]
  },
  {
   "cell_type": "markdown",
   "id": "08c82cd5",
   "metadata": {},
   "source": [
    "Applying PCA by projecting centered data and original data onto required number of eigen vectors,depending on required percentage of variance to be captured).I am using minimum number of dimensions that should be used to capture required amount of variance."
   ]
  },
  {
   "cell_type": "code",
   "execution_count": null,
   "id": "4e796584",
   "metadata": {},
   "outputs": [],
   "source": [
    "#1:For 60% data\n",
    "d = dim(eigval,60/100)\n",
    "print(d)\n",
    "e_vector = eigvec[0:d,:]\n",
    "pca_data_60 = cent@e_vector.T\n",
    "pca_data_60_X = arr_data@e_vector.T\n",
    "pca_data_60"
   ]
  },
  {
   "cell_type": "code",
   "execution_count": null,
   "id": "65d7ea59",
   "metadata": {},
   "outputs": [],
   "source": [
    "#1:For 75% data\n",
    "d = dim(eigval,75/100)\n",
    "print(d)\n",
    "e_vector = eigvec[0:d,:]\n",
    "pca_data_75 = cent@e_vector.T\n",
    "pca_data_75_X = arr_data@e_vector.T\n",
    "pca_data_75"
   ]
  },
  {
   "cell_type": "code",
   "execution_count": null,
   "id": "d4c7d491",
   "metadata": {},
   "outputs": [],
   "source": [
    "#1:For 90% data\n",
    "d = dim(eigval,90/100)\n",
    "print(d)\n",
    "e_vector = eigvec[0:d,:]\n",
    "pca_data_90 = cent@e_vector.T#projecting centered data\n",
    "pca_data_90_X = arr_data@e_vector.T#projecting original data\n",
    "pca_data_90"
   ]
  },
  {
   "cell_type": "markdown",
   "id": "2705d6b9",
   "metadata": {},
   "source": [
    "Final Data Frames"
   ]
  },
  {
   "cell_type": "code",
   "execution_count": null,
   "id": "7e29eec4",
   "metadata": {},
   "outputs": [],
   "source": [
    "pca_df_60,pca_df_75,pca_df_90 = pd.DataFrame(pca_data_60),pd.DataFrame(pca_data_75),pd.DataFrame(pca_data_90)#for centered data"
   ]
  },
  {
   "cell_type": "code",
   "execution_count": null,
   "id": "0c746b39",
   "metadata": {},
   "outputs": [],
   "source": [
    "pca_df_60_X,pca_df_75_X,pca_df_90_X = pd.DataFrame(pca_data_60_X),pd.DataFrame(pca_data_75_X),pd.DataFrame(pca_data_90_X)#for original data"
   ]
  },
  {
   "cell_type": "markdown",
   "id": "b280bbca",
   "metadata": {},
   "source": [
    "# SVD"
   ]
  },
  {
   "cell_type": "code",
   "execution_count": null,
   "id": "a6eb5cde",
   "metadata": {},
   "outputs": [],
   "source": [
    "U,S,Vt = svd(data)\n",
    "mat_S =np.diag(S)"
   ]
  },
  {
   "cell_type": "code",
   "execution_count": null,
   "id": "9e4e9c89",
   "metadata": {},
   "outputs": [],
   "source": [
    "print(np.sum((S)))"
   ]
  },
  {
   "cell_type": "code",
   "execution_count": null,
   "id": "e332ff83",
   "metadata": {},
   "outputs": [],
   "source": [
    "for i in range(0,10):\n",
    "    print( 'Percentage of variance explained by {}th component: {}'.format( i, (S[i]**2)/np.sum(np.square(S))*100 ) )"
   ]
  },
  {
   "cell_type": "code",
   "execution_count": null,
   "id": "afb86e38",
   "metadata": {},
   "outputs": [],
   "source": [
    "def req_dim(S,ratio):\n",
    "    tot = np.sum(np.square(S))\n",
    "    acq_sum = S[0]**2#acquired sum till now..\n",
    "    ind = 0\n",
    "    for ind in range(1,len(S)):\n",
    "        if acq_sum/tot >= ratio:break#acq_sum is num upto ind-1\n",
    "        else:\n",
    "            acq_sum+=S[ind]**2\n",
    "    return ind"
   ]
  },
  {
   "cell_type": "code",
   "execution_count": null,
   "id": "710f7d8b",
   "metadata": {},
   "outputs": [],
   "source": [
    "#for 60%:\n",
    "per = 60\n",
    "s_60=req_dim(S,per/100)#required number of singular values\n",
    "svd_data_60 = U[:,:s_60]@mat_S[:s_60,:s_60]@Vt[:s_60,:]"
   ]
  },
  {
   "cell_type": "code",
   "execution_count": null,
   "id": "b2aad2eb",
   "metadata": {},
   "outputs": [],
   "source": [
    "#for 75%:\n",
    "per = 75\n",
    "s_75=req_dim(S,per/100)\n",
    "svd_data_75 = U[:,:s_75]@mat_S[:s_75,:s_75]@Vt[:s_75,:]"
   ]
  },
  {
   "cell_type": "code",
   "execution_count": null,
   "id": "e8a69757",
   "metadata": {},
   "outputs": [],
   "source": [
    "#for 90%:\n",
    "per = 90\n",
    "s_90=req_dim(S,per/100)\n",
    "svd_data_90 = U[:,:s_90]@mat_S[:s_90,:s_90]@Vt[:s_90,:]"
   ]
  },
  {
   "cell_type": "code",
   "execution_count": null,
   "id": "12e799ac",
   "metadata": {},
   "outputs": [],
   "source": [
    "svd_df_60,svd_df_75,svd_df_90 = pd.DataFrame(svd_data_60),pd.DataFrame(svd_data_75),pd.DataFrame(svd_data_90)"
   ]
  },
  {
   "cell_type": "code",
   "execution_count": null,
   "id": "dbe31734",
   "metadata": {},
   "outputs": [],
   "source": [
    "print(svd_df_60,svd_df_75,svd_df_90,sep='\\n')"
   ]
  },
  {
   "cell_type": "markdown",
   "id": "b428c3c0",
   "metadata": {},
   "source": [
    "In this method the reduced data for 60%,75%,90% are all same."
   ]
  },
  {
   "cell_type": "markdown",
   "id": "79abed68",
   "metadata": {},
   "source": [
    "# EDA on 60% PCA Data"
   ]
  },
  {
   "cell_type": "code",
   "execution_count": null,
   "id": "b9978602",
   "metadata": {},
   "outputs": [],
   "source": [
    "import seaborn as sns\n",
    "import matplotlib.pyplot as plt"
   ]
  },
  {
   "cell_type": "code",
   "execution_count": null,
   "id": "e0c59a03",
   "metadata": {},
   "outputs": [],
   "source": [
    "DF,DF_X = pca_df_60,pca_df_60_X"
   ]
  },
  {
   "cell_type": "markdown",
   "id": "8f6584a5",
   "metadata": {},
   "source": [
    "Knowing the data"
   ]
  },
  {
   "cell_type": "code",
   "execution_count": null,
   "id": "b6025eb1",
   "metadata": {},
   "outputs": [],
   "source": [
    "print(DF.info(),DF_X.info())"
   ]
  },
  {
   "cell_type": "code",
   "execution_count": null,
   "id": "2801c325",
   "metadata": {},
   "outputs": [],
   "source": [
    "print(DF.describe(),DF_X.describe(),sep='\\n')"
   ]
  },
  {
   "cell_type": "code",
   "execution_count": null,
   "id": "1d1ba181",
   "metadata": {},
   "outputs": [],
   "source": [
    "sns.set_theme()"
   ]
  },
  {
   "cell_type": "code",
   "execution_count": null,
   "id": "a14bf6fc",
   "metadata": {},
   "outputs": [],
   "source": [
    "sns.pairplot(DF_X,kind='reg',diag_kind='kde')"
   ]
  },
  {
   "cell_type": "code",
   "execution_count": null,
   "id": "19e2b484",
   "metadata": {},
   "outputs": [],
   "source": [
    "sns.boxplot(DF_X)"
   ]
  },
  {
   "cell_type": "code",
   "execution_count": null,
   "id": "ba8285e3",
   "metadata": {},
   "outputs": [],
   "source": [
    "cor = DF_X.corr()\n",
    "sns.heatmap(cor,annot=True)"
   ]
  },
  {
   "cell_type": "markdown",
   "id": "ae11a79b",
   "metadata": {},
   "source": [
    "principal components are orthogonal does not mean that data projected on these axes have correlation as zero."
   ]
  }
 ],
 "metadata": {
  "kernelspec": {
   "display_name": "Python 3 (ipykernel)",
   "language": "python",
   "name": "python3"
  },
  "language_info": {
   "codemirror_mode": {
    "name": "ipython",
    "version": 3
   },
   "file_extension": ".py",
   "mimetype": "text/x-python",
   "name": "python",
   "nbconvert_exporter": "python",
   "pygments_lexer": "ipython3",
   "version": "3.11.5"
  }
 },
 "nbformat": 4,
 "nbformat_minor": 5
}
