{
 "cells": [
  {
   "cell_type": "code",
   "execution_count": 1,
   "id": "5d793c1f",
   "metadata": {},
   "outputs": [],
   "source": [
    "from PIL import Image"
   ]
  },
  {
   "cell_type": "code",
   "execution_count": 2,
   "id": "1b746e3e",
   "metadata": {},
   "outputs": [],
   "source": [
    "def resize_image(input_path, output_path, scale_factor):\n",
    "    try:\n",
    "        # Open the image file\n",
    "        original_image = Image.open(input_path)\n",
    "\n",
    "        # Get the original size of the image\n",
    "        original_size = original_image.size\n",
    "\n",
    "        # Calculate the new size based on the scale factor\n",
    "        new_size = tuple(int(dim * scale_factor) for dim in original_size)\n",
    "        \n",
    "        # Resize the image\n",
    "        resized_image = original_image.resize(new_size)\n",
    "        \n",
    "        # Save the resized image to the specified output path\n",
    "        resized_image.save(output_path)\n",
    "        \n",
    "        print(f\"Image resized and saved to {output_path}\")\n",
    "    except Exception as e:\n",
    "        print(f\"Error: {e}\")"
   ]
  },
  {
   "cell_type": "code",
   "execution_count": null,
   "id": "16d52062",
   "metadata": {},
   "outputs": [],
   "source": [
    "# Get user input for the image file name\n",
    "input_image_path = input(\"Enter the name of the input image file (with extension): \")\n",
    "\n",
    "# Resize to 30%\n",
    "resize_image(input_image_path, 'resized_30.jpg', 0.3)\n",
    "\n",
    "# Resize to 60%\n",
    "resize_image(input_image_path, 'resized_60.jpg', 0.6)\n",
    "\n",
    "# Resize to 90%\n",
    "resize_image(input_image_path, 'resized_90.jpg', 0.9)   \n"
   ]
  },
  {
   "cell_type": "code",
   "execution_count": null,
   "id": "6a65803c",
   "metadata": {},
   "outputs": [],
   "source": []
  },
  {
   "cell_type": "code",
   "execution_count": null,
   "id": "61e3f284",
   "metadata": {},
   "outputs": [],
   "source": [
    "       "
   ]
  },
  {
   "cell_type": "code",
   "execution_count": null,
   "id": "5d6cb6d7",
   "metadata": {},
   "outputs": [],
   "source": [
    "       "
   ]
  },
  {
   "cell_type": "code",
   "execution_count": null,
   "id": "2198bc4d",
   "metadata": {},
   "outputs": [],
   "source": [
    " "
   ]
  },
  {
   "cell_type": "code",
   "execution_count": null,
   "id": "6265906e",
   "metadata": {},
   "outputs": [],
   "source": []
  }
 ],
 "metadata": {
  "kernelspec": {
   "display_name": "Python 3 (ipykernel)",
   "language": "python",
   "name": "python3"
  },
  "language_info": {
   "codemirror_mode": {
    "name": "ipython",
    "version": 3
   },
   "file_extension": ".py",
   "mimetype": "text/x-python",
   "name": "python",
   "nbconvert_exporter": "python",
   "pygments_lexer": "ipython3",
   "version": "3.11.5"
  }
 },
 "nbformat": 4,
 "nbformat_minor": 5
}
